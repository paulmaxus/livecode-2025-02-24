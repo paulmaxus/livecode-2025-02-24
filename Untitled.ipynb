{
 "cells": [
  {
   "cell_type": "markdown",
   "id": "b02e21f3-9fb2-4a05-b6a7-b4692d2b650f",
   "metadata": {},
   "source": [
    "## Set up\n",
    "\n",
    "Download data from:\n",
    "\n",
    "\n",
    "Project folder\n",
    "- /data (put downloaded datasets there)\n",
    "- /notebooks (put your .ipynb notebooks here)"
   ]
  }
 ],
 "metadata": {
  "kernelspec": {
   "display_name": "Python 3 (ipykernel)",
   "language": "python",
   "name": "python3"
  },
  "language_info": {
   "codemirror_mode": {
    "name": "ipython",
    "version": 3
   },
   "file_extension": ".py",
   "mimetype": "text/x-python",
   "name": "python",
   "nbconvert_exporter": "python",
   "pygments_lexer": "ipython3",
   "version": "3.12.5"
  }
 },
 "nbformat": 4,
 "nbformat_minor": 5
}
