{
 "cells": [
  {
   "cell_type": "code",
   "execution_count": 1,
   "id": "2b599113-775f-4783-9cc7-ae3ab0d6ecac",
   "metadata": {},
   "outputs": [],
   "source": [
    "import pandas as pd"
   ]
  },
  {
   "cell_type": "markdown",
   "id": "f664834e-895a-4d30-857d-12a5656c50b9",
   "metadata": {},
   "source": [
    "R: library(dplyr)\n",
    "not install.packages()"
   ]
  },
  {
   "cell_type": "code",
   "execution_count": 2,
   "id": "76d9d13e-c2fc-46b4-9666-872c5f0b2986",
   "metadata": {},
   "outputs": [],
   "source": [
    "data = pd.read_csv(\"../data/gapminder_gdp_europe.csv\", index_col=\"country\")"
   ]
  },
  {
   "cell_type": "code",
   "execution_count": 5,
   "id": "fc06aa03-6ef4-45f5-ae5f-14b992738e9d",
   "metadata": {},
   "outputs": [
    {
     "data": {
      "text/html": [
       "<div>\n",
       "<style scoped>\n",
       "    .dataframe tbody tr th:only-of-type {\n",
       "        vertical-align: middle;\n",
       "    }\n",
       "\n",
       "    .dataframe tbody tr th {\n",
       "        vertical-align: top;\n",
       "    }\n",
       "\n",
       "    .dataframe thead th {\n",
       "        text-align: right;\n",
       "    }\n",
       "</style>\n",
       "<table border=\"1\" class=\"dataframe\">\n",
       "  <thead>\n",
       "    <tr style=\"text-align: right;\">\n",
       "      <th></th>\n",
       "      <th>gdpPercap_1952</th>\n",
       "      <th>gdpPercap_1957</th>\n",
       "      <th>gdpPercap_1962</th>\n",
       "      <th>gdpPercap_1967</th>\n",
       "      <th>gdpPercap_1972</th>\n",
       "      <th>gdpPercap_1977</th>\n",
       "      <th>gdpPercap_1982</th>\n",
       "      <th>gdpPercap_1987</th>\n",
       "      <th>gdpPercap_1992</th>\n",
       "      <th>gdpPercap_1997</th>\n",
       "      <th>gdpPercap_2002</th>\n",
       "      <th>gdpPercap_2007</th>\n",
       "    </tr>\n",
       "    <tr>\n",
       "      <th>country</th>\n",
       "      <th></th>\n",
       "      <th></th>\n",
       "      <th></th>\n",
       "      <th></th>\n",
       "      <th></th>\n",
       "      <th></th>\n",
       "      <th></th>\n",
       "      <th></th>\n",
       "      <th></th>\n",
       "      <th></th>\n",
       "      <th></th>\n",
       "      <th></th>\n",
       "    </tr>\n",
       "  </thead>\n",
       "  <tbody>\n",
       "    <tr>\n",
       "      <th>Albania</th>\n",
       "      <td>1601.056136</td>\n",
       "      <td>1942.284244</td>\n",
       "      <td>2312.888958</td>\n",
       "      <td>2760.196931</td>\n",
       "      <td>3313.422188</td>\n",
       "      <td>3533.00391</td>\n",
       "      <td>3630.880722</td>\n",
       "      <td>3738.932735</td>\n",
       "      <td>2497.437901</td>\n",
       "      <td>3193.054604</td>\n",
       "      <td>4604.211737</td>\n",
       "      <td>5937.029526</td>\n",
       "    </tr>\n",
       "    <tr>\n",
       "      <th>Austria</th>\n",
       "      <td>6137.076492</td>\n",
       "      <td>8842.598030</td>\n",
       "      <td>10750.721110</td>\n",
       "      <td>12834.602400</td>\n",
       "      <td>16661.625600</td>\n",
       "      <td>19749.42230</td>\n",
       "      <td>21597.083620</td>\n",
       "      <td>23687.826070</td>\n",
       "      <td>27042.018680</td>\n",
       "      <td>29095.920660</td>\n",
       "      <td>32417.607690</td>\n",
       "      <td>36126.492700</td>\n",
       "    </tr>\n",
       "  </tbody>\n",
       "</table>\n",
       "</div>"
      ],
      "text/plain": [
       "         gdpPercap_1952  gdpPercap_1957  gdpPercap_1962  gdpPercap_1967  \\\n",
       "country                                                                   \n",
       "Albania     1601.056136     1942.284244     2312.888958     2760.196931   \n",
       "Austria     6137.076492     8842.598030    10750.721110    12834.602400   \n",
       "\n",
       "         gdpPercap_1972  gdpPercap_1977  gdpPercap_1982  gdpPercap_1987  \\\n",
       "country                                                                   \n",
       "Albania     3313.422188      3533.00391     3630.880722     3738.932735   \n",
       "Austria    16661.625600     19749.42230    21597.083620    23687.826070   \n",
       "\n",
       "         gdpPercap_1992  gdpPercap_1997  gdpPercap_2002  gdpPercap_2007  \n",
       "country                                                                  \n",
       "Albania     2497.437901     3193.054604     4604.211737     5937.029526  \n",
       "Austria    27042.018680    29095.920660    32417.607690    36126.492700  "
      ]
     },
     "execution_count": 5,
     "metadata": {},
     "output_type": "execute_result"
    }
   ],
   "source": [
    "data.head(2)"
   ]
  },
  {
   "cell_type": "markdown",
   "id": "bb4f3eae-f27c-469c-b915-db258e1a7caa",
   "metadata": {},
   "source": [
    "## Selecting values\n",
    "\n",
    "- by position\n",
    "- by location"
   ]
  },
  {
   "cell_type": "code",
   "execution_count": 8,
   "id": "d0877d8c-c5fa-4d5e-9821-17afb665c46d",
   "metadata": {},
   "outputs": [
    {
     "data": {
      "text/plain": [
       "np.float64(8842.59803)"
      ]
     },
     "execution_count": 8,
     "metadata": {},
     "output_type": "execute_result"
    }
   ],
   "source": [
    "data.iloc[1,1]  # people_in_the_room[0]"
   ]
  },
  {
   "cell_type": "code",
   "execution_count": 10,
   "id": "23605337-5664-4019-9ec7-8b621d0137e1",
   "metadata": {},
   "outputs": [
    {
     "data": {
      "text/plain": [
       "1942.284244"
      ]
     },
     "execution_count": 10,
     "metadata": {},
     "output_type": "execute_result"
    }
   ],
   "source": [
    "float(data.loc[\"Albania\",\"gdpPercap_1957\"])"
   ]
  },
  {
   "cell_type": "code",
   "execution_count": null,
   "id": "3655d5a1-ef8f-4e08-88b9-45f037f74d3e",
   "metadata": {},
   "outputs": [],
   "source": [
    "# pandas -> numpy (np)"
   ]
  },
  {
   "cell_type": "markdown",
   "id": "5769a5b6-1ed4-46c1-ac92-a9f7f57bed06",
   "metadata": {},
   "source": [
    "## Slicing"
   ]
  },
  {
   "cell_type": "code",
   "execution_count": 11,
   "id": "48875ef3-cddb-4c6c-9fb7-3e3606d270e9",
   "metadata": {},
   "outputs": [],
   "source": [
    "names = [\"Ruben\", \"Max\", \"Julian\"]"
   ]
  },
  {
   "cell_type": "code",
   "execution_count": 12,
   "id": "1ef653d7-a810-4496-96ae-2a02a28a790a",
   "metadata": {},
   "outputs": [
    {
     "data": {
      "text/plain": [
       "['Ruben', 'Max']"
      ]
     },
     "execution_count": 12,
     "metadata": {},
     "output_type": "execute_result"
    }
   ],
   "source": [
    "names[0:2]"
   ]
  },
  {
   "cell_type": "markdown",
   "id": "68f6c157-4db6-4a3a-ae33-37b7c0d698b4",
   "metadata": {},
   "source": [
    "# Slicing with iloc, loc\n",
    "\n",
    "## Exercise\n",
    "\n",
    "column gdpPercap_1972\n",
    "\n",
    "countries: Italy - Poland"
   ]
  },
  {
   "cell_type": "code",
   "execution_count": 13,
   "id": "6d66df8d-2cde-4fc1-be93-200b00a6e4bc",
   "metadata": {},
   "outputs": [
    {
     "data": {
      "text/plain": [
       "np.float64(12269.27378)"
      ]
     },
     "execution_count": 13,
     "metadata": {},
     "output_type": "execute_result"
    }
   ],
   "source": [
    "data.loc[\"Italy\",\"gdpPercap_1972\"]"
   ]
  },
  {
   "cell_type": "code",
   "execution_count": 17,
   "id": "7b1013f1-8d27-4cdf-9302-847bd098c9de",
   "metadata": {},
   "outputs": [
    {
     "data": {
      "text/html": [
       "<div>\n",
       "<style scoped>\n",
       "    .dataframe tbody tr th:only-of-type {\n",
       "        vertical-align: middle;\n",
       "    }\n",
       "\n",
       "    .dataframe tbody tr th {\n",
       "        vertical-align: top;\n",
       "    }\n",
       "\n",
       "    .dataframe thead th {\n",
       "        text-align: right;\n",
       "    }\n",
       "</style>\n",
       "<table border=\"1\" class=\"dataframe\">\n",
       "  <thead>\n",
       "    <tr style=\"text-align: right;\">\n",
       "      <th></th>\n",
       "      <th>gdpPercap_1972</th>\n",
       "      <th>gdpPercap_1977</th>\n",
       "    </tr>\n",
       "    <tr>\n",
       "      <th>country</th>\n",
       "      <th></th>\n",
       "      <th></th>\n",
       "    </tr>\n",
       "  </thead>\n",
       "  <tbody>\n",
       "    <tr>\n",
       "      <th>Italy</th>\n",
       "      <td>12269.273780</td>\n",
       "      <td>14255.984750</td>\n",
       "    </tr>\n",
       "    <tr>\n",
       "      <th>Montenegro</th>\n",
       "      <td>7778.414017</td>\n",
       "      <td>9595.929905</td>\n",
       "    </tr>\n",
       "    <tr>\n",
       "      <th>Netherlands</th>\n",
       "      <td>18794.745670</td>\n",
       "      <td>21209.059200</td>\n",
       "    </tr>\n",
       "    <tr>\n",
       "      <th>Norway</th>\n",
       "      <td>18965.055510</td>\n",
       "      <td>23311.349390</td>\n",
       "    </tr>\n",
       "    <tr>\n",
       "      <th>Poland</th>\n",
       "      <td>8006.506993</td>\n",
       "      <td>9508.141454</td>\n",
       "    </tr>\n",
       "  </tbody>\n",
       "</table>\n",
       "</div>"
      ],
      "text/plain": [
       "             gdpPercap_1972  gdpPercap_1977\n",
       "country                                    \n",
       "Italy          12269.273780    14255.984750\n",
       "Montenegro      7778.414017     9595.929905\n",
       "Netherlands    18794.745670    21209.059200\n",
       "Norway         18965.055510    23311.349390\n",
       "Poland          8006.506993     9508.141454"
      ]
     },
     "execution_count": 17,
     "metadata": {},
     "output_type": "execute_result"
    }
   ],
   "source": [
    "data.loc[\"Italy\":\"Poland\",\"gdpPercap_1972\":\"gdpPercap_1977\"]"
   ]
  },
  {
   "cell_type": "code",
   "execution_count": 16,
   "id": "aa05df3a-2ec9-45c4-9937-34610d2ae95b",
   "metadata": {},
   "outputs": [
    {
     "data": {
      "text/plain": [
       "Index(['gdpPercap_1952', 'gdpPercap_1957', 'gdpPercap_1962', 'gdpPercap_1967',\n",
       "       'gdpPercap_1972', 'gdpPercap_1977', 'gdpPercap_1982', 'gdpPercap_1987',\n",
       "       'gdpPercap_1992', 'gdpPercap_1997', 'gdpPercap_2002', 'gdpPercap_2007'],\n",
       "      dtype='object')"
      ]
     },
     "execution_count": 16,
     "metadata": {},
     "output_type": "execute_result"
    }
   ],
   "source": [
    "data.columns"
   ]
  },
  {
   "cell_type": "code",
   "execution_count": 18,
   "id": "e337a0a3-1d6a-481e-b5b0-4e4b08034d78",
   "metadata": {},
   "outputs": [
    {
     "data": {
      "text/html": [
       "<div>\n",
       "<style scoped>\n",
       "    .dataframe tbody tr th:only-of-type {\n",
       "        vertical-align: middle;\n",
       "    }\n",
       "\n",
       "    .dataframe tbody tr th {\n",
       "        vertical-align: top;\n",
       "    }\n",
       "\n",
       "    .dataframe thead th {\n",
       "        text-align: right;\n",
       "    }\n",
       "</style>\n",
       "<table border=\"1\" class=\"dataframe\">\n",
       "  <thead>\n",
       "    <tr style=\"text-align: right;\">\n",
       "      <th></th>\n",
       "      <th>gdpPercap_1952</th>\n",
       "      <th>gdpPercap_1957</th>\n",
       "    </tr>\n",
       "    <tr>\n",
       "      <th>country</th>\n",
       "      <th></th>\n",
       "      <th></th>\n",
       "    </tr>\n",
       "  </thead>\n",
       "  <tbody>\n",
       "    <tr>\n",
       "      <th>Albania</th>\n",
       "      <td>1601.056136</td>\n",
       "      <td>1942.284244</td>\n",
       "    </tr>\n",
       "    <tr>\n",
       "      <th>Austria</th>\n",
       "      <td>6137.076492</td>\n",
       "      <td>8842.598030</td>\n",
       "    </tr>\n",
       "    <tr>\n",
       "      <th>Belgium</th>\n",
       "      <td>8343.105127</td>\n",
       "      <td>9714.960623</td>\n",
       "    </tr>\n",
       "    <tr>\n",
       "      <th>Bosnia and Herzegovina</th>\n",
       "      <td>973.533195</td>\n",
       "      <td>1353.989176</td>\n",
       "    </tr>\n",
       "    <tr>\n",
       "      <th>Bulgaria</th>\n",
       "      <td>2444.286648</td>\n",
       "      <td>3008.670727</td>\n",
       "    </tr>\n",
       "  </tbody>\n",
       "</table>\n",
       "</div>"
      ],
      "text/plain": [
       "                        gdpPercap_1952  gdpPercap_1957\n",
       "country                                               \n",
       "Albania                    1601.056136     1942.284244\n",
       "Austria                    6137.076492     8842.598030\n",
       "Belgium                    8343.105127     9714.960623\n",
       "Bosnia and Herzegovina      973.533195     1353.989176\n",
       "Bulgaria                   2444.286648     3008.670727"
      ]
     },
     "execution_count": 18,
     "metadata": {},
     "output_type": "execute_result"
    }
   ],
   "source": [
    "data.iloc[0:5,0:2]"
   ]
  },
  {
   "cell_type": "markdown",
   "id": "11dbdaba-ef84-467b-8da9-3e4f0981c9fa",
   "metadata": {},
   "source": [
    "## Filtering the dataset \n",
    "\n",
    "Creating a subset"
   ]
  },
  {
   "cell_type": "code",
   "execution_count": null,
   "id": "29a51e1c-c224-4210-9959-8937b9387fa6",
   "metadata": {},
   "outputs": [],
   "source": []
  }
 ],
 "metadata": {
  "kernelspec": {
   "display_name": "Python 3 (ipykernel)",
   "language": "python",
   "name": "python3"
  },
  "language_info": {
   "codemirror_mode": {
    "name": "ipython",
    "version": 3
   },
   "file_extension": ".py",
   "mimetype": "text/x-python",
   "name": "python",
   "nbconvert_exporter": "python",
   "pygments_lexer": "ipython3",
   "version": "3.12.5"
  }
 },
 "nbformat": 4,
 "nbformat_minor": 5
}
