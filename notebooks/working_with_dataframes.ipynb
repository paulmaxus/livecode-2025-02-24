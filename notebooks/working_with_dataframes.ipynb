{
 "cells": [
  {
   "cell_type": "code",
   "execution_count": 1,
   "id": "2b599113-775f-4783-9cc7-ae3ab0d6ecac",
   "metadata": {},
   "outputs": [],
   "source": [
    "import pandas as pd"
   ]
  },
  {
   "cell_type": "markdown",
   "id": "f664834e-895a-4d30-857d-12a5656c50b9",
   "metadata": {},
   "source": [
    "R: library(dplyr)\n",
    "not install.packages()"
   ]
  },
  {
   "cell_type": "code",
   "execution_count": null,
   "id": "76d9d13e-c2fc-46b4-9666-872c5f0b2986",
   "metadata": {},
   "outputs": [],
   "source": [
    "data = pd.read_csv("
   ]
  }
 ],
 "metadata": {
  "kernelspec": {
   "display_name": "Python 3 (ipykernel)",
   "language": "python",
   "name": "python3"
  },
  "language_info": {
   "codemirror_mode": {
    "name": "ipython",
    "version": 3
   },
   "file_extension": ".py",
   "mimetype": "text/x-python",
   "name": "python",
   "nbconvert_exporter": "python",
   "pygments_lexer": "ipython3",
   "version": "3.12.5"
  }
 },
 "nbformat": 4,
 "nbformat_minor": 5
}
