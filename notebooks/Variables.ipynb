{
 "cells": [
  {
   "cell_type": "code",
   "execution_count": 1,
   "id": "eb6714a2-6b63-4696-82d9-c58601283fdf",
   "metadata": {},
   "outputs": [
    {
     "data": {
      "text/plain": [
       "8"
      ]
     },
     "execution_count": 1,
     "metadata": {},
     "output_type": "execute_result"
    }
   ],
   "source": [
    "3 + 5"
   ]
  },
  {
   "cell_type": "markdown",
   "id": "6419eb1c-0de8-4820-a24a-4c98e8c049b3",
   "metadata": {},
   "source": [
    "# Variables "
   ]
  },
  {
   "cell_type": "code",
   "execution_count": 2,
   "id": "63b48bc2-2260-4ed6-a268-607320f9a7ba",
   "metadata": {},
   "outputs": [],
   "source": [
    "my_age = 35"
   ]
  },
  {
   "cell_type": "code",
   "execution_count": 3,
   "id": "d175ae89-f3cc-4d81-a4df-babf877647b2",
   "metadata": {},
   "outputs": [
    {
     "name": "stdout",
     "output_type": "stream",
     "text": [
      "35\n"
     ]
    }
   ],
   "source": [
    "print(my_age)"
   ]
  },
  {
   "cell_type": "code",
   "execution_count": 4,
   "id": "525560c6-56ac-40ac-b234-ee6c25acc0d7",
   "metadata": {},
   "outputs": [
    {
     "ename": "NameError",
     "evalue": "name 'My_age' is not defined",
     "output_type": "error",
     "traceback": [
      "\u001b[1;31m---------------------------------------------------------------------------\u001b[0m",
      "\u001b[1;31mNameError\u001b[0m                                 Traceback (most recent call last)",
      "Cell \u001b[1;32mIn[4], line 1\u001b[0m\n\u001b[1;32m----> 1\u001b[0m \u001b[38;5;28mprint\u001b[39m(My_age)\n",
      "\u001b[1;31mNameError\u001b[0m: name 'My_age' is not defined"
     ]
    }
   ],
   "source": [
    "print(My_age)"
   ]
  },
  {
   "cell_type": "code",
   "execution_count": 5,
   "id": "ade53651-a381-40b8-b644-ddaad99b2a50",
   "metadata": {},
   "outputs": [
    {
     "ename": "SyntaxError",
     "evalue": "invalid syntax (1640264728.py, line 1)",
     "output_type": "error",
     "traceback": [
      "\u001b[1;36m  Cell \u001b[1;32mIn[5], line 1\u001b[1;36m\u001b[0m\n\u001b[1;33m    my age = 35\u001b[0m\n\u001b[1;37m       ^\u001b[0m\n\u001b[1;31mSyntaxError\u001b[0m\u001b[1;31m:\u001b[0m invalid syntax\n"
     ]
    }
   ],
   "source": [
    "my age = 35"
   ]
  },
  {
   "cell_type": "code",
   "execution_count": 6,
   "id": "784aca34-4b4c-4750-8603-80d39202a78a",
   "metadata": {},
   "outputs": [
    {
     "ename": "SyntaxError",
     "evalue": "invalid decimal literal (3663595944.py, line 1)",
     "output_type": "error",
     "traceback": [
      "\u001b[1;36m  Cell \u001b[1;32mIn[6], line 1\u001b[1;36m\u001b[0m\n\u001b[1;33m    2my = 35\u001b[0m\n\u001b[1;37m    ^\u001b[0m\n\u001b[1;31mSyntaxError\u001b[0m\u001b[1;31m:\u001b[0m invalid decimal literal\n"
     ]
    }
   ],
   "source": [
    "2my = 35"
   ]
  },
  {
   "cell_type": "code",
   "execution_count": 7,
   "id": "4e216e71-c0ce-476a-9111-7a5fdb26920a",
   "metadata": {},
   "outputs": [],
   "source": [
    "first_name = 'ruben'"
   ]
  },
  {
   "cell_type": "code",
   "execution_count": 8,
   "id": "723d8d5c-7df8-433c-9e51-f073b72b6a8a",
   "metadata": {},
   "outputs": [
    {
     "name": "stdout",
     "output_type": "stream",
     "text": [
      "ruben\n"
     ]
    }
   ],
   "source": [
    "print(first_name)"
   ]
  },
  {
   "cell_type": "code",
   "execution_count": 9,
   "id": "cd51d83c-9308-4e95-a80c-8375660b644b",
   "metadata": {},
   "outputs": [
    {
     "name": "stdout",
     "output_type": "stream",
     "text": [
      "ruben\n"
     ]
    }
   ],
   "source": [
    "first_name = \"ruben\"\n",
    "print(first_name)"
   ]
  },
  {
   "cell_type": "code",
   "execution_count": 10,
   "id": "c376f621-11eb-45e3-893e-3856cff60998",
   "metadata": {},
   "outputs": [
    {
     "name": "stdout",
     "output_type": "stream",
     "text": [
      "rubens' house\n"
     ]
    }
   ],
   "source": [
    "something = \"rubens' house\"\n",
    "print(something)"
   ]
  },
  {
   "cell_type": "code",
   "execution_count": 11,
   "id": "922a3d77-9253-4f56-8d1f-f61f07c5ac61",
   "metadata": {},
   "outputs": [
    {
     "data": {
      "text/plain": [
       "str"
      ]
     },
     "execution_count": 11,
     "metadata": {},
     "output_type": "execute_result"
    }
   ],
   "source": [
    "type(\"ruben\")"
   ]
  },
  {
   "cell_type": "code",
   "execution_count": 12,
   "id": "1ae2b178-9a1f-46cc-aa24-73543a4cbda3",
   "metadata": {},
   "outputs": [
    {
     "name": "stdout",
     "output_type": "stream",
     "text": [
      "<class 'str'>\n"
     ]
    }
   ],
   "source": [
    "print(type(\"ruben\"))"
   ]
  },
  {
   "cell_type": "code",
   "execution_count": 13,
   "id": "1e8e0916-1bc5-44bd-b281-492d1e2be8bd",
   "metadata": {},
   "outputs": [
    {
     "data": {
      "text/plain": [
       "'ruben'"
      ]
     },
     "execution_count": 13,
     "metadata": {},
     "output_type": "execute_result"
    }
   ],
   "source": [
    "first_name"
   ]
  },
  {
   "cell_type": "code",
   "execution_count": 14,
   "id": "a2acd73e-eee8-46eb-b645-7f3bc4803f06",
   "metadata": {},
   "outputs": [
    {
     "name": "stdout",
     "output_type": "stream",
     "text": [
      "my name is: ruben\n"
     ]
    }
   ],
   "source": [
    "print(\"my name is:\", first_name)"
   ]
  },
  {
   "cell_type": "code",
   "execution_count": 15,
   "id": "aa888643-4671-4e89-af71-69b7438a2f03",
   "metadata": {},
   "outputs": [
    {
     "data": {
      "text/plain": [
       "35"
      ]
     },
     "execution_count": 15,
     "metadata": {},
     "output_type": "execute_result"
    }
   ],
   "source": [
    "my_age"
   ]
  },
  {
   "cell_type": "code",
   "execution_count": 16,
   "id": "5c23d8d4-ca39-4fa7-91a1-79c6ef2a32c9",
   "metadata": {},
   "outputs": [
    {
     "name": "stdout",
     "output_type": "stream",
     "text": [
      "my name is ruben and i am 35\n"
     ]
    }
   ],
   "source": [
    "print(\"my name is\", first_name, \"and i am\", my_age)"
   ]
  },
  {
   "cell_type": "code",
   "execution_count": 17,
   "id": "ff88a566-fba0-4338-987d-ffe755bc3c23",
   "metadata": {},
   "outputs": [
    {
     "name": "stdout",
     "output_type": "stream",
     "text": [
      "in three years i will be 38\n"
     ]
    }
   ],
   "source": [
    "print(\"in three years i will be\", my_age+3)"
   ]
  },
  {
   "cell_type": "code",
   "execution_count": 20,
   "id": "2be8feec-5d95-4314-a91c-12a63b8ea7cb",
   "metadata": {},
   "outputs": [
    {
     "name": "stdout",
     "output_type": "stream",
     "text": [
      "35\n",
      "38\n"
     ]
    }
   ],
   "source": [
    "# add 3 to my age\n",
    "my_age_plus3 = my_age + 3 # can also be done here\n",
    "print(my_age)\n",
    "print(my_age_plus3)"
   ]
  },
  {
   "cell_type": "code",
   "execution_count": 21,
   "id": "0de3ecbd-82af-4ec8-a94b-3a7dbf9df9ca",
   "metadata": {},
   "outputs": [],
   "source": [
    "# i am here"
   ]
  },
  {
   "cell_type": "code",
   "execution_count": 22,
   "id": "85838cca-1d80-4b9e-b15f-390fb3684fcd",
   "metadata": {},
   "outputs": [],
   "source": [
    "# press enter to enter cell"
   ]
  },
  {
   "cell_type": "markdown",
   "id": "0dfae1b5-7857-4f17-8d18-c1310c9c2f24",
   "metadata": {},
   "source": [
    "## strings"
   ]
  },
  {
   "cell_type": "markdown",
   "id": "b06a4137-7687-42d8-b0e1-82ce9b5ebf0f",
   "metadata": {},
   "source": [
    "# Strings"
   ]
  },
  {
   "cell_type": "code",
   "execution_count": 24,
   "id": "0394ccff-7004-4274-b462-53f7bd310cbd",
   "metadata": {},
   "outputs": [],
   "source": [
    "atom_name = 'helium'"
   ]
  },
  {
   "cell_type": "code",
   "execution_count": 25,
   "id": "b5986970-64ad-4639-ac95-64b31b6d8cbb",
   "metadata": {},
   "outputs": [
    {
     "name": "stdout",
     "output_type": "stream",
     "text": [
      "h\n"
     ]
    }
   ],
   "source": [
    "print(atom_name[0])"
   ]
  },
  {
   "cell_type": "code",
   "execution_count": 28,
   "id": "ee7547e6-2278-494a-9610-bfe6baf64773",
   "metadata": {},
   "outputs": [
    {
     "name": "stdout",
     "output_type": "stream",
     "text": [
      "heli\n"
     ]
    }
   ],
   "source": [
    "print(atom_name[0:4])"
   ]
  },
  {
   "cell_type": "code",
   "execution_count": 29,
   "id": "d514a649-fad7-4c46-bad7-cc7ffda6e447",
   "metadata": {},
   "outputs": [
    {
     "data": {
      "text/plain": [
       "'m'"
      ]
     },
     "execution_count": 29,
     "metadata": {},
     "output_type": "execute_result"
    }
   ],
   "source": [
    "atom_name[-1]"
   ]
  },
  {
   "cell_type": "code",
   "execution_count": 30,
   "id": "6339c95b-bc8d-48d6-9c97-e6690b27e3fb",
   "metadata": {},
   "outputs": [
    {
     "data": {
      "text/plain": [
       "6"
      ]
     },
     "execution_count": 30,
     "metadata": {},
     "output_type": "execute_result"
    }
   ],
   "source": [
    "len(atom_name)"
   ]
  },
  {
   "cell_type": "code",
   "execution_count": 34,
   "id": "15c5f50f-69e6-4fa3-8880-fd4c9f8a6e35",
   "metadata": {},
   "outputs": [
    {
     "data": {
      "text/plain": [
       "'iu'"
      ]
     },
     "execution_count": 34,
     "metadata": {},
     "output_type": "execute_result"
    }
   ],
   "source": [
    "atom_name[-3:-1]"
   ]
  },
  {
   "cell_type": "code",
   "execution_count": 37,
   "id": "51137622-508f-41af-adbb-fc4b5a728518",
   "metadata": {},
   "outputs": [
    {
     "ename": "TypeError",
     "evalue": "string indices must be integers, not 'list'",
     "output_type": "error",
     "traceback": [
      "\u001b[1;31m---------------------------------------------------------------------------\u001b[0m",
      "\u001b[1;31mTypeError\u001b[0m                                 Traceback (most recent call last)",
      "Cell \u001b[1;32mIn[37], line 1\u001b[0m\n\u001b[1;32m----> 1\u001b[0m atom_name[[\u001b[38;5;241m1\u001b[39m,\u001b[38;5;241m4\u001b[39m]]\n",
      "\u001b[1;31mTypeError\u001b[0m: string indices must be integers, not 'list'"
     ]
    }
   ],
   "source": [
    "atom_name[[1,4]]"
   ]
  },
  {
   "cell_type": "code",
   "execution_count": 38,
   "id": "368efbda-3e55-4b7a-9177-ca1abacfe22f",
   "metadata": {},
   "outputs": [
    {
     "name": "stdout",
     "output_type": "stream",
     "text": [
      "x =  3.0 y =  1.0 swap = 1.0\n"
     ]
    }
   ],
   "source": [
    "x = 1.0\n",
    "y = 3.0\n",
    "swap = x\n",
    "x = y\n",
    "y = swap\n",
    "\n",
    "# x = ?\n",
    "# y = ?\n",
    "# swap = ?\n",
    "\n",
    "print(\"x = \", x, \"y = \", y, \"swap =\", swap)"
   ]
  },
  {
   "cell_type": "code",
   "execution_count": 39,
   "id": "1602dbc1-5731-46a5-8305-931c7dac05d3",
   "metadata": {},
   "outputs": [
    {
     "data": {
      "text/plain": [
       "'rain'"
      ]
     },
     "execution_count": 39,
     "metadata": {},
     "output_type": "execute_result"
    }
   ],
   "source": [
    "word = 'brain'\n",
    "# write code that returns \"rain\"\n",
    "word[1:]"
   ]
  },
  {
   "cell_type": "code",
   "execution_count": 43,
   "id": "ed92e00f-eb34-4bbb-aeca-13d7df9aa1c7",
   "metadata": {},
   "outputs": [
    {
     "data": {
      "text/plain": [
       "'rai'"
      ]
     },
     "execution_count": 43,
     "metadata": {},
     "output_type": "execute_result"
    }
   ],
   "source": [
    "word[1:-1]"
   ]
  },
  {
   "cell_type": "code",
   "execution_count": null,
   "id": "9187fdbd-dc1b-4d0f-81c5-3205ac44bd97",
   "metadata": {},
   "outputs": [],
   "source": []
  }
 ],
 "metadata": {
  "kernelspec": {
   "display_name": "Python 3 (ipykernel)",
   "language": "python",
   "name": "python3"
  },
  "language_info": {
   "codemirror_mode": {
    "name": "ipython",
    "version": 3
   },
   "file_extension": ".py",
   "mimetype": "text/x-python",
   "name": "python",
   "nbconvert_exporter": "python",
   "pygments_lexer": "ipython3",
   "version": "3.11.7"
  }
 },
 "nbformat": 4,
 "nbformat_minor": 5
}
