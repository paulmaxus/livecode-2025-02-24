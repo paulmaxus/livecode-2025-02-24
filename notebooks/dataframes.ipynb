{
 "cells": [
  {
   "cell_type": "markdown",
   "id": "f4997aa5-0155-4b86-8676-971b98bcfa50",
   "metadata": {},
   "source": [
    "# Libraries\n",
    "\n",
    "Library/Package/Module\n",
    "\n",
    "pandas/dplyr/tidyverse(R)"
   ]
  },
  {
   "cell_type": "code",
   "execution_count": 1,
   "id": "006535a6-9205-484b-bcf2-fc43a1ce7815",
   "metadata": {},
   "outputs": [
    {
     "ename": "NameError",
     "evalue": "name 'pandas' is not defined",
     "output_type": "error",
     "traceback": [
      "\u001b[1;31m---------------------------------------------------------------------------\u001b[0m",
      "\u001b[1;31mNameError\u001b[0m                                 Traceback (most recent call last)",
      "Cell \u001b[1;32mIn[1], line 1\u001b[0m\n\u001b[1;32m----> 1\u001b[0m \u001b[43mpandas\u001b[49m\n",
      "\u001b[1;31mNameError\u001b[0m: name 'pandas' is not defined"
     ]
    }
   ],
   "source": [
    "pandas"
   ]
  },
  {
   "cell_type": "code",
   "execution_count": 2,
   "id": "9ff838df-26f0-4d7a-83d9-00858142d3de",
   "metadata": {},
   "outputs": [],
   "source": [
    "import pandas"
   ]
  },
  {
   "cell_type": "code",
   "execution_count": 3,
   "id": "e5185985-97a9-464c-9179-6203b61c942e",
   "metadata": {},
   "outputs": [
    {
     "data": {
      "text/plain": [
       "<module 'pandas' from '\\\\\\\\?\\\\C:\\\\Users\\\\mpaulus\\\\AppData\\\\Roaming\\\\jupyterlab-desktop\\\\jlab_server\\\\Lib\\\\site-packages\\\\pandas\\\\__init__.py'>"
      ]
     },
     "execution_count": 3,
     "metadata": {},
     "output_type": "execute_result"
    }
   ],
   "source": [
    "pandas"
   ]
  },
  {
   "cell_type": "code",
   "execution_count": 4,
   "id": "47253093-5d97-4ae1-8c5e-6c672623f1c1",
   "metadata": {},
   "outputs": [],
   "source": [
    "import pandas as pd"
   ]
  },
  {
   "cell_type": "code",
   "execution_count": 5,
   "id": "f6b255f0-950b-4949-8885-4a5985b9d879",
   "metadata": {},
   "outputs": [
    {
     "data": {
      "text/plain": [
       "<module 'pandas' from '\\\\\\\\?\\\\C:\\\\Users\\\\mpaulus\\\\AppData\\\\Roaming\\\\jupyterlab-desktop\\\\jlab_server\\\\Lib\\\\site-packages\\\\pandas\\\\__init__.py'>"
      ]
     },
     "execution_count": 5,
     "metadata": {},
     "output_type": "execute_result"
    }
   ],
   "source": [
    "pd"
   ]
  },
  {
   "cell_type": "code",
   "execution_count": null,
   "id": "566edc08-1e89-48e4-8d64-7394ee92ee50",
   "metadata": {},
   "outputs": [],
   "source": [
    "pd.read_csv()\n",
    "# len(), print()"
   ]
  },
  {
   "cell_type": "code",
   "execution_count": null,
   "id": "8cb7cc87-b8b7-4b83-bf66-3768e1a48733",
   "metadata": {},
   "outputs": [],
   "source": [
    "pd.read_csv(\"\""
   ]
  }
 ],
 "metadata": {
  "kernelspec": {
   "display_name": "Python 3 (ipykernel)",
   "language": "python",
   "name": "python3"
  },
  "language_info": {
   "codemirror_mode": {
    "name": "ipython",
    "version": 3
   },
   "file_extension": ".py",
   "mimetype": "text/x-python",
   "name": "python",
   "nbconvert_exporter": "python",
   "pygments_lexer": "ipython3",
   "version": "3.12.5"
  }
 },
 "nbformat": 4,
 "nbformat_minor": 5
}
