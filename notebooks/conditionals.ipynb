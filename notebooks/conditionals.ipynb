{
 "cells": [
  {
   "cell_type": "markdown",
   "id": "8be07bd1-5f3d-4521-8b4d-5c2720d52d46",
   "metadata": {},
   "source": [
    "# Conditionals"
   ]
  },
  {
   "cell_type": "code",
   "execution_count": 1,
   "id": "7565771b-cc58-41ef-807c-dd4362d5046a",
   "metadata": {},
   "outputs": [],
   "source": [
    "distance = 500"
   ]
  },
  {
   "cell_type": "code",
   "execution_count": 2,
   "id": "a666d7e1-5d3a-4d66-b825-e95834d41883",
   "metadata": {},
   "outputs": [
    {
     "data": {
      "text/plain": [
       "True"
      ]
     },
     "execution_count": 2,
     "metadata": {},
     "output_type": "execute_result"
    }
   ],
   "source": [
    "distance > 100"
   ]
  },
  {
   "cell_type": "code",
   "execution_count": 3,
   "id": "b5df2487-99e7-4506-a254-d933fed60dd9",
   "metadata": {},
   "outputs": [],
   "source": [
    "distance_bool = distance > 100"
   ]
  },
  {
   "cell_type": "code",
   "execution_count": 4,
   "id": "dd8b250a-1b34-4213-9dec-78f0e5e16065",
   "metadata": {},
   "outputs": [
    {
     "name": "stdout",
     "output_type": "stream",
     "text": [
      "True\n"
     ]
    }
   ],
   "source": [
    "print(distance_bool)"
   ]
  },
  {
   "cell_type": "code",
   "execution_count": null,
   "id": "bb64b707-66e8-40c9-a5ad-b7ec1b3116e0",
   "metadata": {},
   "outputs": [],
   "source": []
  }
 ],
 "metadata": {
  "kernelspec": {
   "display_name": "Python 3 (ipykernel)",
   "language": "python",
   "name": "python3"
  },
  "language_info": {
   "codemirror_mode": {
    "name": "ipython",
    "version": 3
   },
   "file_extension": ".py",
   "mimetype": "text/x-python",
   "name": "python",
   "nbconvert_exporter": "python",
   "pygments_lexer": "ipython3",
   "version": "3.13.0"
  }
 },
 "nbformat": 4,
 "nbformat_minor": 5
}
