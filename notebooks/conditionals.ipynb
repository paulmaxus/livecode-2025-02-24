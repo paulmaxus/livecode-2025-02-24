{
 "cells": [
  {
   "cell_type": "markdown",
   "id": "8be07bd1-5f3d-4521-8b4d-5c2720d52d46",
   "metadata": {},
   "source": [
    "# Conditionals"
   ]
  },
  {
   "cell_type": "code",
   "execution_count": 1,
   "id": "7565771b-cc58-41ef-807c-dd4362d5046a",
   "metadata": {},
   "outputs": [],
   "source": [
    "distance = 500"
   ]
  },
  {
   "cell_type": "code",
   "execution_count": 2,
   "id": "a666d7e1-5d3a-4d66-b825-e95834d41883",
   "metadata": {},
   "outputs": [
    {
     "data": {
      "text/plain": [
       "True"
      ]
     },
     "execution_count": 2,
     "metadata": {},
     "output_type": "execute_result"
    }
   ],
   "source": [
    "distance > 100"
   ]
  },
  {
   "cell_type": "code",
   "execution_count": 3,
   "id": "b5df2487-99e7-4506-a254-d933fed60dd9",
   "metadata": {},
   "outputs": [],
   "source": [
    "distance_bool = distance > 100"
   ]
  },
  {
   "cell_type": "code",
   "execution_count": 4,
   "id": "dd8b250a-1b34-4213-9dec-78f0e5e16065",
   "metadata": {},
   "outputs": [
    {
     "name": "stdout",
     "output_type": "stream",
     "text": [
      "True\n"
     ]
    }
   ],
   "source": [
    "print(distance_bool)"
   ]
  },
  {
   "cell_type": "code",
   "execution_count": 5,
   "id": "bb64b707-66e8-40c9-a5ad-b7ec1b3116e0",
   "metadata": {},
   "outputs": [
    {
     "name": "stdout",
     "output_type": "stream",
     "text": [
      "Distance is greater than 100\n"
     ]
    }
   ],
   "source": [
    "if distance > 100:\n",
    "    print(\"Distance is greater than 100\")"
   ]
  },
  {
   "cell_type": "code",
   "execution_count": 6,
   "id": "ee45b55f-d659-4d10-8b77-c5fddd922ceb",
   "metadata": {},
   "outputs": [],
   "source": [
    "distance = 50\n",
    "if distance > 100:\n",
    "    print(\"Distance is greater than 100\")"
   ]
  },
  {
   "cell_type": "code",
   "execution_count": 7,
   "id": "da5411aa-f4e9-4cfb-810a-f07e3a8217dd",
   "metadata": {},
   "outputs": [
    {
     "name": "stdout",
     "output_type": "stream",
     "text": [
      "Distance is small\n"
     ]
    }
   ],
   "source": [
    "distance = 50\n",
    "if distance > 100:\n",
    "    print(\"Distance is big\")\n",
    "else:\n",
    "    print(\"Distance is small\")"
   ]
  },
  {
   "cell_type": "code",
   "execution_count": 10,
   "id": "5689a3d2-12b4-467a-a813-b3fe4a62ceb0",
   "metadata": {},
   "outputs": [
    {
     "name": "stdout",
     "output_type": "stream",
     "text": [
      "Distance is big\n"
     ]
    }
   ],
   "source": [
    "distance = 1000\n",
    "if distance > 100:\n",
    "    print(\"Distance is big\")\n",
    "elif distance > 25:\n",
    "    print (\"Distance is pretty big\")\n",
    "else:\n",
    "    print (\"Distance is small\")"
   ]
  },
  {
   "cell_type": "code",
   "execution_count": null,
   "id": "c16dda09-d686-4c61-be23-603880f074c5",
   "metadata": {},
   "outputs": [],
   "source": [
    "distance = 100\n",
    "if distance > 100:\n",
    "    print (\"big!\")\n",
    "elif distance > 50:\n",
    "    print (\"pretty big\")\n",
    "    "
   ]
  }
 ],
 "metadata": {
  "kernelspec": {
   "display_name": "Python 3 (ipykernel)",
   "language": "python",
   "name": "python3"
  },
  "language_info": {
   "codemirror_mode": {
    "name": "ipython",
    "version": 3
   },
   "file_extension": ".py",
   "mimetype": "text/x-python",
   "name": "python",
   "nbconvert_exporter": "python",
   "pygments_lexer": "ipython3",
   "version": "3.13.0"
  }
 },
 "nbformat": 4,
 "nbformat_minor": 5
}
