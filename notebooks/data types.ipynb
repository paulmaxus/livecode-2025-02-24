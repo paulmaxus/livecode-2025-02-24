{
 "cells": [
  {
   "cell_type": "markdown",
   "id": "c7a13057-3b83-4fa7-95d2-e36fd69b3b5d",
   "metadata": {},
   "source": [
    "# data types"
   ]
  },
  {
   "cell_type": "code",
   "execution_count": 1,
   "id": "ee555b27-6025-4977-bcee-efa663850bd0",
   "metadata": {},
   "outputs": [
    {
     "data": {
      "text/plain": [
       "int"
      ]
     },
     "execution_count": 1,
     "metadata": {},
     "output_type": "execute_result"
    }
   ],
   "source": [
    "type(52)"
   ]
  },
  {
   "cell_type": "code",
   "execution_count": 2,
   "id": "c70b448a-3b43-40ec-aa58-00b8c2f698ca",
   "metadata": {},
   "outputs": [
    {
     "data": {
      "text/plain": [
       "str"
      ]
     },
     "execution_count": 2,
     "metadata": {},
     "output_type": "execute_result"
    }
   ],
   "source": [
    "type(\"name\")"
   ]
  },
  {
   "cell_type": "code",
   "execution_count": 3,
   "id": "ac620d6b-d677-416c-aa75-eb67a96aea68",
   "metadata": {},
   "outputs": [
    {
     "data": {
      "text/plain": [
       "float"
      ]
     },
     "execution_count": 3,
     "metadata": {},
     "output_type": "execute_result"
    }
   ],
   "source": [
    "type(3.1)"
   ]
  },
  {
   "cell_type": "code",
   "execution_count": 4,
   "id": "7b38c6bf-25b8-4152-b2de-98c3032df77f",
   "metadata": {},
   "outputs": [
    {
     "name": "stdout",
     "output_type": "stream",
     "text": [
      "2\n"
     ]
    }
   ],
   "source": [
    "print( 5 - 3)"
   ]
  },
  {
   "cell_type": "code",
   "execution_count": 5,
   "id": "a0f9ccdf-d117-4b85-845b-139cb14aa055",
   "metadata": {},
   "outputs": [
    {
     "ename": "TypeError",
     "evalue": "unsupported operand type(s) for -: 'str' and 'str'",
     "output_type": "error",
     "traceback": [
      "\u001b[1;31m---------------------------------------------------------------------------\u001b[0m",
      "\u001b[1;31mTypeError\u001b[0m                                 Traceback (most recent call last)",
      "Cell \u001b[1;32mIn[5], line 1\u001b[0m\n\u001b[1;32m----> 1\u001b[0m \u001b[38;5;28mprint\u001b[39m( \u001b[38;5;124m'\u001b[39m\u001b[38;5;124mhello\u001b[39m\u001b[38;5;124m'\u001b[39m \u001b[38;5;241m-\u001b[39m \u001b[38;5;124m'\u001b[39m\u001b[38;5;124mh\u001b[39m\u001b[38;5;124m'\u001b[39m)\n",
      "\u001b[1;31mTypeError\u001b[0m: unsupported operand type(s) for -: 'str' and 'str'"
     ]
    }
   ],
   "source": [
    "print( 'hello' - 'h')"
   ]
  },
  {
   "cell_type": "code",
   "execution_count": 9,
   "id": "de794ac6-0598-4c14-a60a-e03f8f435afa",
   "metadata": {},
   "outputs": [
    {
     "name": "stdout",
     "output_type": "stream",
     "text": [
      "hello world\n"
     ]
    }
   ],
   "source": [
    "print('hello' + ' ' +'world')"
   ]
  },
  {
   "cell_type": "code",
   "execution_count": 12,
   "id": "8ba2d696-845e-44fb-bbdf-4ed2fa0cdd97",
   "metadata": {},
   "outputs": [
    {
     "name": "stdout",
     "output_type": "stream",
     "text": [
      "=\n"
     ]
    }
   ],
   "source": [
    "separator = '='\n",
    "print(separator)"
   ]
  },
  {
   "cell_type": "code",
   "execution_count": 13,
   "id": "d55dcfdd-40da-460a-ad6d-7784b5000d2a",
   "metadata": {},
   "outputs": [
    {
     "name": "stdout",
     "output_type": "stream",
     "text": [
      "==========\n"
     ]
    }
   ],
   "source": [
    "print(separator * 10)"
   ]
  },
  {
   "cell_type": "code",
   "execution_count": 14,
   "id": "b1e3fe72-45b3-4e2c-a7b8-55f9bd723c95",
   "metadata": {},
   "outputs": [
    {
     "data": {
      "text/plain": [
       "1"
      ]
     },
     "execution_count": 14,
     "metadata": {},
     "output_type": "execute_result"
    }
   ],
   "source": [
    "len(separator)"
   ]
  },
  {
   "cell_type": "code",
   "execution_count": 15,
   "id": "60b5837a-eb31-4bf0-a9be-390741ebd4b6",
   "metadata": {},
   "outputs": [
    {
     "ename": "TypeError",
     "evalue": "object of type 'int' has no len()",
     "output_type": "error",
     "traceback": [
      "\u001b[1;31m---------------------------------------------------------------------------\u001b[0m",
      "\u001b[1;31mTypeError\u001b[0m                                 Traceback (most recent call last)",
      "Cell \u001b[1;32mIn[15], line 1\u001b[0m\n\u001b[1;32m----> 1\u001b[0m \u001b[38;5;28mlen\u001b[39m(\u001b[38;5;241m52\u001b[39m)\n",
      "\u001b[1;31mTypeError\u001b[0m: object of type 'int' has no len()"
     ]
    }
   ],
   "source": [
    "len(52)"
   ]
  },
  {
   "cell_type": "code",
   "execution_count": 16,
   "id": "3f76121a-b28f-4df6-b63c-aec59375762e",
   "metadata": {},
   "outputs": [
    {
     "data": {
      "text/plain": [
       "2"
      ]
     },
     "execution_count": 16,
     "metadata": {},
     "output_type": "execute_result"
    }
   ],
   "source": [
    "len(str(52))"
   ]
  },
  {
   "cell_type": "code",
   "execution_count": 17,
   "id": "d1a04120-3942-400c-89d2-cdd7f7c75aba",
   "metadata": {},
   "outputs": [
    {
     "ename": "TypeError",
     "evalue": "unsupported operand type(s) for +: 'int' and 'str'",
     "output_type": "error",
     "traceback": [
      "\u001b[1;31m---------------------------------------------------------------------------\u001b[0m",
      "\u001b[1;31mTypeError\u001b[0m                                 Traceback (most recent call last)",
      "Cell \u001b[1;32mIn[17], line 1\u001b[0m\n\u001b[1;32m----> 1\u001b[0m \u001b[38;5;28mprint\u001b[39m(\u001b[38;5;241m1\u001b[39m \u001b[38;5;241m+\u001b[39m \u001b[38;5;124m'\u001b[39m\u001b[38;5;124m2\u001b[39m\u001b[38;5;124m'\u001b[39m)\n",
      "\u001b[1;31mTypeError\u001b[0m: unsupported operand type(s) for +: 'int' and 'str'"
     ]
    }
   ],
   "source": [
    "print(1 + '2')"
   ]
  },
  {
   "cell_type": "code",
   "execution_count": 19,
   "id": "135e531a-c166-421e-8c0a-195a842e574d",
   "metadata": {},
   "outputs": [
    {
     "name": "stdout",
     "output_type": "stream",
     "text": [
      "12\n"
     ]
    }
   ],
   "source": [
    "print(str(1) + '2')"
   ]
  },
  {
   "cell_type": "code",
   "execution_count": 20,
   "id": "a13e5496-407b-465e-ba8b-af908a646be3",
   "metadata": {},
   "outputs": [
    {
     "name": "stdout",
     "output_type": "stream",
     "text": [
      "<class 'str'>\n"
     ]
    }
   ],
   "source": [
    "print(type(str(1) + '2'))"
   ]
  },
  {
   "cell_type": "code",
   "execution_count": 21,
   "id": "a98e8679-a3a4-4acf-bec0-7f88a07a56a6",
   "metadata": {},
   "outputs": [
    {
     "name": "stdout",
     "output_type": "stream",
     "text": [
      "3\n"
     ]
    }
   ],
   "source": [
    "print(1 + int('2'))"
   ]
  },
  {
   "cell_type": "code",
   "execution_count": 22,
   "id": "46be0ccf-d592-434d-897c-53acdffe300d",
   "metadata": {},
   "outputs": [
    {
     "name": "stdout",
     "output_type": "stream",
     "text": [
      "<class 'int'>\n",
      "<class 'float'>\n"
     ]
    }
   ],
   "source": [
    "int_3 = 3\n",
    "float_3 = 3.0\n",
    "print(type(int_3))\n",
    "print(type(float_3))"
   ]
  },
  {
   "cell_type": "code",
   "execution_count": 23,
   "id": "bcbab6d0-14f4-42f4-8568-29e5d1b4e41e",
   "metadata": {},
   "outputs": [
    {
     "data": {
      "text/plain": [
       "6.0"
      ]
     },
     "execution_count": 23,
     "metadata": {},
     "output_type": "execute_result"
    }
   ],
   "source": [
    "int_3 + float_3"
   ]
  },
  {
   "cell_type": "code",
   "execution_count": 26,
   "id": "549cb8e3-537b-453b-839b-f34f045daa11",
   "metadata": {},
   "outputs": [
    {
     "data": {
      "text/plain": [
       "3.0"
      ]
     },
     "execution_count": 26,
     "metadata": {},
     "output_type": "execute_result"
    }
   ],
   "source": [
    "float(int_3)"
   ]
  },
  {
   "cell_type": "code",
   "execution_count": 38,
   "id": "eb67fb2a-37d0-4c2e-a6bb-8a74e32c2d46",
   "metadata": {},
   "outputs": [
    {
     "name": "stdout",
     "output_type": "stream",
     "text": [
      "11\n",
      "<class 'str'>\n"
     ]
    }
   ],
   "source": [
    "## assignment\n",
    "\n",
    "\n",
    "# which operations will return float 2.0\n",
    "\n",
    "# option_1 = first + float(second)\n",
    "# print(option_1)\n",
    "# print(type(option_1))\n",
    "\n",
    "# option_2= float(second) + float(third)\n",
    "# print(option_2)\n",
    "# print(type(option_2))\n",
    "\n",
    "# option_3 = first + int(third)\n",
    "# print(option_3)\n",
    "# print(type(option_3))\n",
    "\n",
    "first = 1.0\n",
    "second = \"1\"\n",
    "third = \"1.1\"\n",
    "\n",
    "# option_4= first + int(float(third))\n",
    "\n",
    "# print(option_4)\n",
    "# print(type(option_4))\n",
    "\n",
    "# option_5= int(first) + int(float(third))\n",
    "# print(option_5)\n",
    "# print(type(option_5))\n",
    "\n",
    "# option_6= 2.0 * second\n",
    "# print(option_6)\n",
    "\n",
    "option_7 = 2 * second\n",
    "print(option_7)\n",
    "print(type(option_7))"
   ]
  },
  {
   "cell_type": "code",
   "execution_count": null,
   "id": "f8d479aa-9dfd-4a0b-84cd-a2d249cee3f7",
   "metadata": {},
   "outputs": [],
   "source": [
    " "
   ]
  },
  {
   "cell_type": "code",
   "execution_count": null,
   "id": "4cf0324d-cfd7-4701-b346-e838ca96905b",
   "metadata": {},
   "outputs": [],
   "source": []
  }
 ],
 "metadata": {
  "kernelspec": {
   "display_name": "Python 3 (ipykernel)",
   "language": "python",
   "name": "python3"
  },
  "language_info": {
   "codemirror_mode": {
    "name": "ipython",
    "version": 3
   },
   "file_extension": ".py",
   "mimetype": "text/x-python",
   "name": "python",
   "nbconvert_exporter": "python",
   "pygments_lexer": "ipython3",
   "version": "3.11.7"
  }
 },
 "nbformat": 4,
 "nbformat_minor": 5
}
