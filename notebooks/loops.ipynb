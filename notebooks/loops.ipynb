{
 "cells": [
  {
   "cell_type": "markdown",
   "id": "cf2e3c7a-9d0d-4339-bb62-e32735061ec6",
   "metadata": {},
   "source": [
    "#For loops"
   ]
  },
  {
   "cell_type": "code",
   "execution_count": 1,
   "id": "7f94ca86-aca2-4fb9-8f3a-a10a111f6ace",
   "metadata": {},
   "outputs": [],
   "source": [
    "distances_km_list = [20, 5, 10]"
   ]
  },
  {
   "cell_type": "code",
   "execution_count": 2,
   "id": "6b7aa568-4f15-4d12-8937-fb8cd74d4b59",
   "metadata": {},
   "outputs": [
    {
     "name": "stdout",
     "output_type": "stream",
     "text": [
      "[20, 5, 10]\n"
     ]
    }
   ],
   "source": [
    "print(distances_km_list)"
   ]
  },
  {
   "cell_type": "code",
   "execution_count": 3,
   "id": "b3bb9131-125c-4fcd-bc92-5ab3a7027b24",
   "metadata": {},
   "outputs": [
    {
     "data": {
      "text/plain": [
       "20000"
      ]
     },
     "execution_count": 3,
     "metadata": {},
     "output_type": "execute_result"
    }
   ],
   "source": [
    "distances_km_list[0] * 1000"
   ]
  },
  {
   "cell_type": "code",
   "execution_count": 4,
   "id": "4a2c911e-98e0-41cf-92f3-9f6a79e543b0",
   "metadata": {},
   "outputs": [
    {
     "data": {
      "text/plain": [
       "5000"
      ]
     },
     "execution_count": 4,
     "metadata": {},
     "output_type": "execute_result"
    }
   ],
   "source": [
    "distances_km_list[1] * 1000"
   ]
  },
  {
   "cell_type": "code",
   "execution_count": 5,
   "id": "64f8bb82-3270-4e2d-ad09-761c17b54b5f",
   "metadata": {},
   "outputs": [
    {
     "name": "stdout",
     "output_type": "stream",
     "text": [
      "20\n",
      "5\n",
      "10\n"
     ]
    }
   ],
   "source": [
    "for distance in distances_km_list:\n",
    "    print(distance)"
   ]
  },
  {
   "cell_type": "code",
   "execution_count": 7,
   "id": "6c86d6ce-ff57-415b-9ab9-8bf40ae087fd",
   "metadata": {},
   "outputs": [
    {
     "name": "stdout",
     "output_type": "stream",
     "text": [
      "20\n",
      "5\n",
      "10\n"
     ]
    }
   ],
   "source": [
    "for bananas in distances_km_list:\n",
    "    print(bananas)"
   ]
  },
  {
   "cell_type": "code",
   "execution_count": 8,
   "id": "05a3ef8d-fcf8-4ce8-8141-59c521006e0e",
   "metadata": {},
   "outputs": [
    {
     "name": "stdout",
     "output_type": "stream",
     "text": [
      "60\n",
      "10\n",
      "5\n",
      "5\n"
     ]
    }
   ],
   "source": [
    "distance = 999\n",
    "for distance in [60, 10, 5]:\n",
    "    print(distance)\n",
    "\n",
    "print(distance)"
   ]
  },
  {
   "cell_type": "code",
   "execution_count": 9,
   "id": "e746f577-78b4-415c-bb2a-cc88d2ccbfdd",
   "metadata": {},
   "outputs": [
    {
     "name": "stdout",
     "output_type": "stream",
     "text": [
      "20\n",
      "20000\n",
      "5\n",
      "5000\n",
      "10\n",
      "10000\n"
     ]
    }
   ],
   "source": [
    "for distance_km in distances_km_list:\n",
    "    print(distance_km)\n",
    "    distance_m = distance_km * 1000\n",
    "    print(distance_m)\n",
    "    "
   ]
  },
  {
   "cell_type": "code",
   "execution_count": 10,
   "id": "07453194-82cf-4326-9dd3-ffff7fe0cf77",
   "metadata": {},
   "outputs": [
    {
     "name": "stdout",
     "output_type": "stream",
     "text": [
      "10000\n"
     ]
    }
   ],
   "source": [
    "print(distance_m)"
   ]
  },
  {
   "cell_type": "code",
   "execution_count": 11,
   "id": "0ae6d487-d05b-49aa-8145-24bfc85b0687",
   "metadata": {},
   "outputs": [
    {
     "name": "stdout",
     "output_type": "stream",
     "text": [
      "102.5\n"
     ]
    }
   ],
   "source": [
    "total_distance = 0\n",
    "distances_km_list = [60,5,10,13,14.5]\n",
    "\n",
    "for distance_km in distances_km_list:\n",
    "    total_distance = total_distance + distance_km\n",
    "\n",
    "print(total_distance)"
   ]
  },
  {
   "cell_type": "code",
   "execution_count": 13,
   "id": "d5c2090a-7f3c-49b3-bb50-bd67610ea16e",
   "metadata": {},
   "outputs": [
    {
     "name": "stdout",
     "output_type": "stream",
     "text": [
      "Distance in Km is  60\n",
      "Distance in M is  60000\n",
      "Distance in Km is  5\n",
      "Distance in M is  5000\n",
      "Distance in Km is  10\n",
      "Distance in M is  10000\n",
      "Distance in Km is  13\n",
      "Distance in M is  13000\n",
      "Distance in Km is  14.5\n",
      "Distance in M is  14500.0\n",
      "[60000, 5000, 10000, 13000, 14500.0]\n"
     ]
    }
   ],
   "source": [
    "# Storing loop results in list\n",
    "distances_km_list = [60,5,10,13,14.5]\n",
    "distances_m_list = []\n",
    "\n",
    "for distance_km in distances_km_list:\n",
    "    print(\"Distance in Km is\", distance_km)\n",
    "    distance_m = distance_km * 1000\n",
    "    print(\"Distance in M is\", distance_m)\n",
    "    distances_m_list.append(distance_m)\n",
    "\n",
    "print(distances_m_list)"
   ]
  },
  {
   "cell_type": "code",
   "execution_count": 14,
   "id": "11398613-de46-4d0c-ac25-b0b468d81150",
   "metadata": {},
   "outputs": [
    {
     "name": "stdout",
     "output_type": "stream",
     "text": [
      "[60000]\n",
      "[60000, 5000]\n",
      "[60000, 5000, 10000]\n",
      "[60000, 5000, 10000, 13000]\n",
      "[60000, 5000, 10000, 13000, 14500.0]\n"
     ]
    }
   ],
   "source": [
    "# Storing loop results in list\n",
    "\n",
    "distances_m_list = []\n",
    "\n",
    "for distance_km in distances_km_list:\n",
    "    distances_m_list.append(distance_km * 1000)\n",
    "    print(distances_m_list)\n",
    "    "
   ]
  },
  {
   "cell_type": "code",
   "execution_count": 16,
   "id": "fca85540-99f7-41f8-bf46-bb44ccfd70d4",
   "metadata": {},
   "outputs": [
    {
     "name": "stdout",
     "output_type": "stream",
     "text": [
      "r\n",
      "r\n",
      "g\n",
      "rg\n",
      "b\n",
      "rgb\n",
      "rgb\n"
     ]
    }
   ],
   "source": [
    "# Exercise\n",
    "colour_list = [\"red\",\"green\",\"blue\"]\n",
    "# remember you can slice strings with []\n",
    "# remember you can append strings with +\n",
    "# produce the string \"rgb\" from the colours list \n",
    "# using a for loop\n",
    "colour_string = \"\"\n",
    "for colour in colour_list:\n",
    "    first_letter = colour[0]\n",
    "    print(first_letter)\n",
    "    colour_string = colour_string + first_letter\n",
    "    print(colour_string)\n",
    "\n",
    "print(colour_string)\n",
    "\n",
    "target = \"rgb\""
   ]
  },
  {
   "cell_type": "code",
   "execution_count": 19,
   "id": "823f3c6c-63e4-4f85-bb48-67d45b75d0c9",
   "metadata": {},
   "outputs": [],
   "source": [
    "#help(str)\n",
    "#help(list)"
   ]
  },
  {
   "cell_type": "code",
   "execution_count": 20,
   "id": "6976223e-17c7-4899-93cb-0fa6fb507d06",
   "metadata": {},
   "outputs": [
    {
     "name": "stdout",
     "output_type": "stream",
     "text": [
      "J\n",
      "u\n",
      "l\n",
      "i\n",
      "a\n",
      "n\n",
      " \n",
      "E\n",
      "v\n",
      "a\n",
      "n\n",
      "s\n"
     ]
    }
   ],
   "source": [
    "# loop through strings\n",
    "my_name = \"Julian Evans\"\n",
    "for letter in my_name:\n",
    "    print(letter)"
   ]
  },
  {
   "cell_type": "code",
   "execution_count": 21,
   "id": "0987cd33-1f43-48cb-b7ff-3f989badaa11",
   "metadata": {},
   "outputs": [
    {
     "ename": "TypeError",
     "evalue": "'int' object is not iterable",
     "output_type": "error",
     "traceback": [
      "\u001b[1;31m---------------------------------------------------------------------------\u001b[0m",
      "\u001b[1;31mTypeError\u001b[0m                                 Traceback (most recent call last)",
      "Cell \u001b[1;32mIn[21], line 2\u001b[0m\n\u001b[0;32m      1\u001b[0m my_huge_number \u001b[38;5;241m=\u001b[39m \u001b[38;5;241m953252543242\u001b[39m\n\u001b[1;32m----> 2\u001b[0m \u001b[38;5;28;43;01mfor\u001b[39;49;00m\u001b[43m \u001b[49m\u001b[43mnumber\u001b[49m\u001b[43m \u001b[49m\u001b[38;5;129;43;01min\u001b[39;49;00m\u001b[43m \u001b[49m\u001b[43mmy_huge_number\u001b[49m\u001b[43m:\u001b[49m\n\u001b[0;32m      3\u001b[0m \u001b[43m    \u001b[49m\u001b[38;5;28;43mprint\u001b[39;49m\u001b[43m(\u001b[49m\u001b[43mnumber\u001b[49m\u001b[43m)\u001b[49m\n",
      "\u001b[1;31mTypeError\u001b[0m: 'int' object is not iterable"
     ]
    }
   ],
   "source": [
    "my_huge_number = 953252543242\n",
    "for number in my_huge_number:\n",
    "    print(number)\n",
    "\n",
    "# Throws an error"
   ]
  },
  {
   "cell_type": "code",
   "execution_count": 24,
   "id": "deebf3f2-486b-450e-87a3-2f12ad1119bf",
   "metadata": {},
   "outputs": [
    {
     "name": "stdout",
     "output_type": "stream",
     "text": [
      "<class 'str'>\n",
      "<class 'int'>\n",
      "<class 'str'>\n",
      "<class 'int'>\n",
      "<class 'str'>\n",
      "<class 'int'>\n",
      "<class 'str'>\n",
      "<class 'int'>\n",
      "<class 'str'>\n",
      "<class 'int'>\n",
      "<class 'str'>\n",
      "<class 'int'>\n",
      "<class 'str'>\n",
      "<class 'int'>\n",
      "<class 'str'>\n",
      "<class 'int'>\n",
      "<class 'str'>\n",
      "<class 'int'>\n",
      "<class 'str'>\n",
      "<class 'int'>\n",
      "<class 'str'>\n",
      "<class 'int'>\n",
      "<class 'str'>\n",
      "<class 'int'>\n"
     ]
    }
   ],
   "source": [
    "my_huge_number = str(953252543242)\n",
    "for number_str in my_huge_number:\n",
    "    number_int = int(number_str)\n",
    "    print(type(number_str))\n",
    "    print(type(number_int))\n"
   ]
  },
  {
   "cell_type": "code",
   "execution_count": 25,
   "id": "bbd76273-d34e-451f-98c9-0965d736f2dd",
   "metadata": {},
   "outputs": [],
   "source": [
    "my_range = range(0,50)"
   ]
  },
  {
   "cell_type": "code",
   "execution_count": 26,
   "id": "d9dcc070-c58d-4305-836f-455bc137b025",
   "metadata": {},
   "outputs": [
    {
     "name": "stdout",
     "output_type": "stream",
     "text": [
      "range(0, 50)\n"
     ]
    }
   ],
   "source": [
    "print(my_range)"
   ]
  },
  {
   "cell_type": "code",
   "execution_count": 30,
   "id": "896ef100-e46d-4e3a-9c79-c766d7486a90",
   "metadata": {},
   "outputs": [
    {
     "data": {
      "text/plain": [
       "0"
      ]
     },
     "execution_count": 30,
     "metadata": {},
     "output_type": "execute_result"
    }
   ],
   "source": [
    "my_range[0]\n"
   ]
  },
  {
   "cell_type": "code",
   "execution_count": 31,
   "id": "ae5f9a38-4b6a-48d8-b009-8b2374670bbb",
   "metadata": {},
   "outputs": [
    {
     "name": "stdout",
     "output_type": "stream",
     "text": [
      "0\n",
      "1\n",
      "2\n",
      "3\n",
      "4\n",
      "5\n",
      "6\n",
      "7\n",
      "8\n",
      "9\n",
      "10\n",
      "11\n",
      "12\n",
      "13\n",
      "14\n",
      "15\n",
      "16\n",
      "17\n",
      "18\n",
      "19\n",
      "20\n",
      "21\n",
      "22\n",
      "23\n",
      "24\n",
      "25\n",
      "26\n",
      "27\n",
      "28\n",
      "29\n",
      "30\n",
      "31\n",
      "32\n",
      "33\n",
      "34\n",
      "35\n",
      "36\n",
      "37\n",
      "38\n",
      "39\n",
      "40\n",
      "41\n",
      "42\n",
      "43\n",
      "44\n",
      "45\n",
      "46\n",
      "47\n",
      "48\n",
      "49\n"
     ]
    }
   ],
   "source": [
    "for number in my_range:\n",
    "    print(number)"
   ]
  },
  {
   "cell_type": "code",
   "execution_count": 32,
   "id": "e7d29b8e-7bc9-482b-b569-e31ea67aef97",
   "metadata": {},
   "outputs": [],
   "source": [
    "my_range = range(0,51)"
   ]
  },
  {
   "cell_type": "code",
   "execution_count": 33,
   "id": "cd84ca30-03ba-4aaf-9c7a-e5795209d626",
   "metadata": {},
   "outputs": [
    {
     "data": {
      "text/plain": [
       "50"
      ]
     },
     "execution_count": 33,
     "metadata": {},
     "output_type": "execute_result"
    }
   ],
   "source": [
    "my_range[-1]"
   ]
  },
  {
   "cell_type": "code",
   "execution_count": 36,
   "id": "27c2da46-1fc9-428e-bb32-8179f2f0763d",
   "metadata": {},
   "outputs": [
    {
     "name": "stdout",
     "output_type": "stream",
     "text": [
      "7\n",
      "0 50 0.0\n",
      "1 123 0.14285714285714285\n",
      "2 435 0.2857142857142857\n",
      "3 7131 0.42857142857142855\n",
      "4 13421 0.5714285714285714\n",
      "5 58 0.7142857142857143\n",
      "6 15.5 0.8571428571428571\n"
     ]
    }
   ],
   "source": [
    "distances_km_list = [50,123,435,7131,13421,58,15.5]\n",
    "list_length = len(distances_km_list)\n",
    "print(list_length)\n",
    "for index, distance_km in enumerate(distances_km_list):\n",
    "    print(index,distance_km,index/list_length)\n",
    "\n"
   ]
  },
  {
   "cell_type": "code",
   "execution_count": 39,
   "id": "dd0ae3d1-128c-406a-9675-36b9bbb9cb5d",
   "metadata": {},
   "outputs": [
    {
     "name": "stdout",
     "output_type": "stream",
     "text": [
      "Distance in km is 100\n",
      "Distance in m is 100000\n",
      "Distance in km is 25.5\n",
      "Distance in m is 25500.0\n",
      "Distance in km is 0.2\n",
      "Distance in m is 200.0\n",
      "Distance in km is 42\n",
      "Distance in m is 42000\n",
      "Distance in km is 81\n",
      "Distance in m is 81000\n",
      "Total distance in m is 248700.0\n",
      "Number of distances in 5\n",
      "Average distance in m is 49740.0\n"
     ]
    }
   ],
   "source": [
    "distances_km_list = [100,25.5,0.2,42,81]\n",
    "\n",
    "# Using a for loop calculate the cumulative sum in meters\n",
    "total_dist_m = 0\n",
    "for distance_km in distances_km_list:\n",
    "    distance_m = distance_km * 1000\n",
    "    total_dist_m = total_dist_m + distance_m\n",
    "    print(\"Distance in km is\", distance_km)\n",
    "    print(\"Distance in m is\", distance_m)\n",
    "\n",
    "print(\"Total distance in m is\", total_dist_m)\n",
    "    \n",
    "# Use this and the len() function to calculate\n",
    "distance_list_length = len(distances_km_list)\n",
    "print(\"Number of distances in\",distance_list_length)\n",
    "# mean distance in meters\n",
    "mean_dist_m = total_dist_m/distance_list_length\n",
    "\n",
    "print(\"Average distance in m is\", mean_dist_m)"
   ]
  },
  {
   "cell_type": "markdown",
   "id": "ccbdc312-0320-4d21-9b17-95698c7b9669",
   "metadata": {},
   "source": [
    "# Loading pandas data with loops"
   ]
  },
  {
   "cell_type": "code",
   "execution_count": null,
   "id": "4902fb41-d29a-4a27-9366-a2689b32ed1f",
   "metadata": {},
   "outputs": [],
   "source": []
  }
 ],
 "metadata": {
  "kernelspec": {
   "display_name": "Python 3 (ipykernel)",
   "language": "python",
   "name": "python3"
  },
  "language_info": {
   "codemirror_mode": {
    "name": "ipython",
    "version": 3
   },
   "file_extension": ".py",
   "mimetype": "text/x-python",
   "name": "python",
   "nbconvert_exporter": "python",
   "pygments_lexer": "ipython3",
   "version": "3.13.0"
  }
 },
 "nbformat": 4,
 "nbformat_minor": 5
}
