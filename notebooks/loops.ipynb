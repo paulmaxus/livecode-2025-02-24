{
 "cells": [
  {
   "cell_type": "markdown",
   "id": "cf2e3c7a-9d0d-4339-bb62-e32735061ec6",
   "metadata": {},
   "source": [
    "#For loops"
   ]
  },
  {
   "cell_type": "code",
   "execution_count": 1,
   "id": "7f94ca86-aca2-4fb9-8f3a-a10a111f6ace",
   "metadata": {},
   "outputs": [],
   "source": [
    "distances_km_list = [20, 5, 10]"
   ]
  },
  {
   "cell_type": "code",
   "execution_count": 2,
   "id": "6b7aa568-4f15-4d12-8937-fb8cd74d4b59",
   "metadata": {},
   "outputs": [
    {
     "name": "stdout",
     "output_type": "stream",
     "text": [
      "[20, 5, 10]\n"
     ]
    }
   ],
   "source": [
    "print(distances_km_list)"
   ]
  },
  {
   "cell_type": "code",
   "execution_count": 3,
   "id": "b3bb9131-125c-4fcd-bc92-5ab3a7027b24",
   "metadata": {},
   "outputs": [
    {
     "data": {
      "text/plain": [
       "20000"
      ]
     },
     "execution_count": 3,
     "metadata": {},
     "output_type": "execute_result"
    }
   ],
   "source": [
    "distances_km_list[0] * 1000"
   ]
  },
  {
   "cell_type": "code",
   "execution_count": 4,
   "id": "4a2c911e-98e0-41cf-92f3-9f6a79e543b0",
   "metadata": {},
   "outputs": [
    {
     "data": {
      "text/plain": [
       "5000"
      ]
     },
     "execution_count": 4,
     "metadata": {},
     "output_type": "execute_result"
    }
   ],
   "source": [
    "distances_km_list[1] * 1000"
   ]
  },
  {
   "cell_type": "code",
   "execution_count": 5,
   "id": "64f8bb82-3270-4e2d-ad09-761c17b54b5f",
   "metadata": {},
   "outputs": [
    {
     "name": "stdout",
     "output_type": "stream",
     "text": [
      "20\n",
      "5\n",
      "10\n"
     ]
    }
   ],
   "source": [
    "for distance in distances_km_list:\n",
    "    print(distance)"
   ]
  },
  {
   "cell_type": "code",
   "execution_count": 7,
   "id": "6c86d6ce-ff57-415b-9ab9-8bf40ae087fd",
   "metadata": {},
   "outputs": [
    {
     "name": "stdout",
     "output_type": "stream",
     "text": [
      "20\n",
      "5\n",
      "10\n"
     ]
    }
   ],
   "source": [
    "for bananas in distances_km_list:\n",
    "    print(bananas)"
   ]
  },
  {
   "cell_type": "code",
   "execution_count": 8,
   "id": "05a3ef8d-fcf8-4ce8-8141-59c521006e0e",
   "metadata": {},
   "outputs": [
    {
     "name": "stdout",
     "output_type": "stream",
     "text": [
      "60\n",
      "10\n",
      "5\n",
      "5\n"
     ]
    }
   ],
   "source": [
    "distance = 999\n",
    "for distance in [60, 10, 5]:\n",
    "    print(distance)\n",
    "\n",
    "print(distance)"
   ]
  },
  {
   "cell_type": "code",
   "execution_count": 9,
   "id": "e746f577-78b4-415c-bb2a-cc88d2ccbfdd",
   "metadata": {},
   "outputs": [
    {
     "name": "stdout",
     "output_type": "stream",
     "text": [
      "20\n",
      "20000\n",
      "5\n",
      "5000\n",
      "10\n",
      "10000\n"
     ]
    }
   ],
   "source": [
    "for distance_km in distances_km_list:\n",
    "    print(distance_km)\n",
    "    distance_m = distance_km * 1000\n",
    "    print(distance_m)\n",
    "    "
   ]
  },
  {
   "cell_type": "code",
   "execution_count": 10,
   "id": "07453194-82cf-4326-9dd3-ffff7fe0cf77",
   "metadata": {},
   "outputs": [
    {
     "name": "stdout",
     "output_type": "stream",
     "text": [
      "10000\n"
     ]
    }
   ],
   "source": [
    "print(distance_m)"
   ]
  },
  {
   "cell_type": "code",
   "execution_count": 11,
   "id": "0ae6d487-d05b-49aa-8145-24bfc85b0687",
   "metadata": {},
   "outputs": [
    {
     "name": "stdout",
     "output_type": "stream",
     "text": [
      "102.5\n"
     ]
    }
   ],
   "source": [
    "total_distance = 0\n",
    "distances_km_list = [60,5,10,13,14.5]\n",
    "\n",
    "for distance_km in distances_km_list:\n",
    "    total_distance = total_distance + distance_km\n",
    "\n",
    "print(total_distance)"
   ]
  },
  {
   "cell_type": "code",
   "execution_count": 13,
   "id": "d5c2090a-7f3c-49b3-bb50-bd67610ea16e",
   "metadata": {},
   "outputs": [
    {
     "name": "stdout",
     "output_type": "stream",
     "text": [
      "Distance in Km is  60\n",
      "Distance in M is  60000\n",
      "Distance in Km is  5\n",
      "Distance in M is  5000\n",
      "Distance in Km is  10\n",
      "Distance in M is  10000\n",
      "Distance in Km is  13\n",
      "Distance in M is  13000\n",
      "Distance in Km is  14.5\n",
      "Distance in M is  14500.0\n",
      "[60000, 5000, 10000, 13000, 14500.0]\n"
     ]
    }
   ],
   "source": [
    "distances_km_list = [60,5,10,13,14.5]\n",
    "distances_m_list = []\n",
    "\n",
    "for distance_km in distances_km_list:\n",
    "    print(\"Distance in Km is\", distance_km)\n",
    "    distance_m = distance_km * 1000\n",
    "    print(\"Distance in M is\", distance_m)\n",
    "    distances_m_list.append(distance_m)\n",
    "\n",
    "print(distances_m_list)"
   ]
  },
  {
   "cell_type": "code",
   "execution_count": 14,
   "id": "11398613-de46-4d0c-ac25-b0b468d81150",
   "metadata": {},
   "outputs": [
    {
     "name": "stdout",
     "output_type": "stream",
     "text": [
      "[60000]\n",
      "[60000, 5000]\n",
      "[60000, 5000, 10000]\n",
      "[60000, 5000, 10000, 13000]\n",
      "[60000, 5000, 10000, 13000, 14500.0]\n"
     ]
    }
   ],
   "source": [
    "distances_m_list = []\n",
    "\n",
    "for distance_km in distances_km_list:\n",
    "    distances_m_list.append(distance_km * 1000)\n",
    "    print(distances_m_list)\n",
    "    "
   ]
  },
  {
   "cell_type": "code",
   "execution_count": null,
   "id": "fca85540-99f7-41f8-bf46-bb44ccfd70d4",
   "metadata": {},
   "outputs": [],
   "source": [
    "colour_list = [\"red\",\"green\",\"blue\"]\n",
    "# remember you can slice strings with []\n",
    "# remember you can append strings with +\n",
    "# produce the string \"rgb\" from the colours list \n",
    "# using a for loop\n",
    "\n",
    "for colour in colour_list:\n",
    "    print(colour[0])\n",
    "\n",
    "target = \"rgb\""
   ]
  }
 ],
 "metadata": {
  "kernelspec": {
   "display_name": "Python 3 (ipykernel)",
   "language": "python",
   "name": "python3"
  },
  "language_info": {
   "codemirror_mode": {
    "name": "ipython",
    "version": 3
   },
   "file_extension": ".py",
   "mimetype": "text/x-python",
   "name": "python",
   "nbconvert_exporter": "python",
   "pygments_lexer": "ipython3",
   "version": "3.13.0"
  }
 },
 "nbformat": 4,
 "nbformat_minor": 5
}
