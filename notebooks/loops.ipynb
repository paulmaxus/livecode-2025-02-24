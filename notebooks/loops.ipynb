{
 "cells": [
  {
   "cell_type": "markdown",
   "id": "cf2e3c7a-9d0d-4339-bb62-e32735061ec6",
   "metadata": {},
   "source": [
    "#For loops"
   ]
  },
  {
   "cell_type": "code",
   "execution_count": null,
   "id": "7f94ca86-aca2-4fb9-8f3a-a10a111f6ace",
   "metadata": {},
   "outputs": [],
   "source": []
  }
 ],
 "metadata": {
  "kernelspec": {
   "display_name": "Python 3 (ipykernel)",
   "language": "python",
   "name": "python3"
  },
  "language_info": {
   "codemirror_mode": {
    "name": "ipython",
    "version": 3
   },
   "file_extension": ".py",
   "mimetype": "text/x-python",
   "name": "python",
   "nbconvert_exporter": "python",
   "pygments_lexer": "ipython3",
   "version": "3.13.0"
  }
 },
 "nbformat": 4,
 "nbformat_minor": 5
}
