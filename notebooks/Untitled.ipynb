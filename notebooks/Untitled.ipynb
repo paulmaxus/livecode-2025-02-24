{
 "cells": [
  {
   "cell_type": "markdown",
   "id": "2b36ee19-886d-45af-aa3b-1c504ac4e717",
   "metadata": {},
   "source": [
    "# FUNCTIONS!!!"
   ]
  },
  {
   "cell_type": "code",
   "execution_count": 1,
   "id": "13e4d60b-264c-4e45-be36-12c4e131237e",
   "metadata": {},
   "outputs": [],
   "source": [
    "def hello_world():\n",
    "    print(\"Hello world\")"
   ]
  },
  {
   "cell_type": "code",
   "execution_count": 2,
   "id": "ae8caff6-c1ce-4a42-a765-a403eae43974",
   "metadata": {},
   "outputs": [
    {
     "name": "stdout",
     "output_type": "stream",
     "text": [
      "Hello world\n"
     ]
    }
   ],
   "source": [
    "hello_world()"
   ]
  },
  {
   "cell_type": "code",
   "execution_count": 3,
   "id": "5594ebaa-e227-463c-acf0-8d17a7389446",
   "metadata": {},
   "outputs": [],
   "source": [
    "def add_function(x, y):\n",
    "    print(x+y)"
   ]
  },
  {
   "cell_type": "code",
   "execution_count": 4,
   "id": "10a7d825-04e6-4c59-b192-d497a3b57ac0",
   "metadata": {},
   "outputs": [
    {
     "name": "stdout",
     "output_type": "stream",
     "text": [
      "15\n"
     ]
    }
   ],
   "source": [
    "add_function(10,5)"
   ]
  },
  {
   "cell_type": "code",
   "execution_count": 5,
   "id": "d0289c21-906f-4bc2-b482-8ac7fb5a9a72",
   "metadata": {},
   "outputs": [],
   "source": [
    "def add_function(x, y):\n",
    "    added_numbers = x+y\n",
    "    return added_numbers"
   ]
  },
  {
   "cell_type": "code",
   "execution_count": 6,
   "id": "27c28075-c66e-4c85-b3f8-994a19bb1dee",
   "metadata": {},
   "outputs": [
    {
     "data": {
      "text/plain": [
       "15"
      ]
     },
     "execution_count": 6,
     "metadata": {},
     "output_type": "execute_result"
    }
   ],
   "source": [
    "add_function(10, 5)"
   ]
  },
  {
   "cell_type": "code",
   "execution_count": 7,
   "id": "2c7b8a38-9023-4714-9d75-78e6ed46752d",
   "metadata": {},
   "outputs": [],
   "source": [
    "result = add_function(10, 5)"
   ]
  },
  {
   "cell_type": "code",
   "execution_count": 8,
   "id": "c5a7d4a4-3bb7-49d5-8ead-95fbd0fc3a00",
   "metadata": {},
   "outputs": [
    {
     "name": "stdout",
     "output_type": "stream",
     "text": [
      "15\n"
     ]
    }
   ],
   "source": [
    "print(result)"
   ]
  },
  {
   "cell_type": "code",
   "execution_count": 9,
   "id": "74f86e69-1a10-40c6-83d4-5992e6a4e7dc",
   "metadata": {},
   "outputs": [],
   "source": [
    "def add_function_default(x=0, y=1):\n",
    "    return x+y"
   ]
  },
  {
   "cell_type": "code",
   "execution_count": 10,
   "id": "572a183f-9253-47f6-8a2e-337c7fcddc1d",
   "metadata": {},
   "outputs": [
    {
     "data": {
      "text/plain": [
       "1"
      ]
     },
     "execution_count": 10,
     "metadata": {},
     "output_type": "execute_result"
    }
   ],
   "source": [
    "add_function_default()"
   ]
  },
  {
   "cell_type": "code",
   "execution_count": 11,
   "id": "5dcb3e22-b32b-491f-8aef-f597e5507007",
   "metadata": {},
   "outputs": [
    {
     "data": {
      "text/plain": [
       "11"
      ]
     },
     "execution_count": 11,
     "metadata": {},
     "output_type": "execute_result"
    }
   ],
   "source": [
    "add_function_default(10)"
   ]
  },
  {
   "cell_type": "code",
   "execution_count": 12,
   "id": "1075445c-2b26-4250-a830-896298b39213",
   "metadata": {},
   "outputs": [
    {
     "data": {
      "text/plain": [
       "100"
      ]
     },
     "execution_count": 12,
     "metadata": {},
     "output_type": "execute_result"
    }
   ],
   "source": [
    "add_function_default(y=100)"
   ]
  },
  {
   "cell_type": "markdown",
   "id": "36d59221-34d0-4141-abff-8c97ffc2e366",
   "metadata": {},
   "source": [
    "## Turning some of our loops into functions"
   ]
  },
  {
   "cell_type": "code",
   "execution_count": 13,
   "id": "28254691-15ca-48a2-ada1-556574f77047",
   "metadata": {},
   "outputs": [],
   "source": [
    "def get_small_dists(distance_list):\n",
    "    small_distance_list = []\n",
    "    for distance in distance_list:\n",
    "        print(distance)\n",
    "        if distance < 50:\n",
    "            print(\"Small distance\")\n",
    "            small_distance_list.append(distance)\n",
    "\n",
    "    return small_distance_list"
   ]
  },
  {
   "cell_type": "code",
   "execution_count": 14,
   "id": "85da3d1d-ebac-4aed-a836-e37f4b896efb",
   "metadata": {},
   "outputs": [
    {
     "name": "stdout",
     "output_type": "stream",
     "text": [
      "20\n",
      "Small distance\n",
      "100\n",
      "50\n",
      "60\n",
      "1000\n"
     ]
    },
    {
     "data": {
      "text/plain": [
       "[20]"
      ]
     },
     "execution_count": 14,
     "metadata": {},
     "output_type": "execute_result"
    }
   ],
   "source": [
    "get_small_dists([20,100,50,60,1000])"
   ]
  },
  {
   "cell_type": "code",
   "execution_count": 17,
   "id": "9c4db8e5-5482-4fd4-8f73-1c3187522a4a",
   "metadata": {},
   "outputs": [
    {
     "name": "stdout",
     "output_type": "stream",
     "text": [
      "60\n",
      "1000\n",
      "10\n",
      "Small distance\n",
      "20\n",
      "Small distance\n"
     ]
    }
   ],
   "source": [
    "result = get_small_dists([60,1000,10,20])"
   ]
  },
  {
   "cell_type": "code",
   "execution_count": 18,
   "id": "fe11ffbc-8193-4b39-a391-7c1fbab9a262",
   "metadata": {},
   "outputs": [
    {
     "name": "stdout",
     "output_type": "stream",
     "text": [
      "[10, 20]\n"
     ]
    }
   ],
   "source": [
    "print(result)"
   ]
  },
  {
   "cell_type": "code",
   "execution_count": 19,
   "id": "42848589-eeea-45a0-b53f-1e7441b82fb3",
   "metadata": {},
   "outputs": [],
   "source": [
    "def get_small_dists(distance_list, small_dist=50):\n",
    "    small_distance_list = []\n",
    "    for distance in distance_list:\n",
    "        print(distance)\n",
    "        if distance < small_dist:\n",
    "            print(\"Small distance\")\n",
    "            small_distance_list.append(distance)\n",
    "\n",
    "    return small_distance_list"
   ]
  },
  {
   "cell_type": "code",
   "execution_count": 20,
   "id": "122ea460-4980-4640-ada0-87e048094250",
   "metadata": {},
   "outputs": [
    {
     "name": "stdout",
     "output_type": "stream",
     "text": [
      "60\n",
      "1000\n",
      "10\n",
      "Small distance\n",
      "20\n",
      "Small distance\n"
     ]
    }
   ],
   "source": [
    "result = get_small_dists([60,1000,10,20])"
   ]
  },
  {
   "cell_type": "code",
   "execution_count": 21,
   "id": "0180d635-d424-46ef-a344-94f646feab34",
   "metadata": {},
   "outputs": [
    {
     "name": "stdout",
     "output_type": "stream",
     "text": [
      "60\n",
      "Small distance\n",
      "1000\n",
      "10\n",
      "Small distance\n",
      "20\n",
      "Small distance\n"
     ]
    }
   ],
   "source": [
    "result = get_small_dists([60,1000,10,20], 100)"
   ]
  },
  {
   "cell_type": "code",
   "execution_count": 22,
   "id": "bf6433a8-4fc1-4447-a1ce-0225a272a886",
   "metadata": {},
   "outputs": [],
   "source": [
    "import glob\n",
    "import pandas as pd"
   ]
  },
  {
   "cell_type": "code",
   "execution_count": null,
   "id": "76070c0f-4a78-4eb3-8c7e-bf04b5bbbf2b",
   "metadata": {},
   "outputs": [],
   "source": []
  }
 ],
 "metadata": {
  "kernelspec": {
   "display_name": "Python 3 (ipykernel)",
   "language": "python",
   "name": "python3"
  },
  "language_info": {
   "codemirror_mode": {
    "name": "ipython",
    "version": 3
   },
   "file_extension": ".py",
   "mimetype": "text/x-python",
   "name": "python",
   "nbconvert_exporter": "python",
   "pygments_lexer": "ipython3",
   "version": "3.13.0"
  }
 },
 "nbformat": 4,
 "nbformat_minor": 5
}
