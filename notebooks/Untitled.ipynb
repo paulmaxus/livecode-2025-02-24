{
 "cells": [
  {
   "cell_type": "markdown",
   "id": "2b36ee19-886d-45af-aa3b-1c504ac4e717",
   "metadata": {},
   "source": [
    "# FUNCTIONS!!!"
   ]
  },
  {
   "cell_type": "code",
   "execution_count": 1,
   "id": "13e4d60b-264c-4e45-be36-12c4e131237e",
   "metadata": {},
   "outputs": [],
   "source": [
    "def hello_world():\n",
    "    print(\"Hello world\")"
   ]
  },
  {
   "cell_type": "code",
   "execution_count": 2,
   "id": "ae8caff6-c1ce-4a42-a765-a403eae43974",
   "metadata": {},
   "outputs": [
    {
     "name": "stdout",
     "output_type": "stream",
     "text": [
      "Hello world\n"
     ]
    }
   ],
   "source": [
    "hello_world()"
   ]
  },
  {
   "cell_type": "code",
   "execution_count": null,
   "id": "5594ebaa-e227-463c-acf0-8d17a7389446",
   "metadata": {},
   "outputs": [],
   "source": [
    "def add_function(x, y):\n",
    "    "
   ]
  }
 ],
 "metadata": {
  "kernelspec": {
   "display_name": "Python 3 (ipykernel)",
   "language": "python",
   "name": "python3"
  },
  "language_info": {
   "codemirror_mode": {
    "name": "ipython",
    "version": 3
   },
   "file_extension": ".py",
   "mimetype": "text/x-python",
   "name": "python",
   "nbconvert_exporter": "python",
   "pygments_lexer": "ipython3",
   "version": "3.13.0"
  }
 },
 "nbformat": 4,
 "nbformat_minor": 5
}
