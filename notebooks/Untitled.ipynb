{
 "cells": [
  {
   "cell_type": "markdown",
   "id": "2b36ee19-886d-45af-aa3b-1c504ac4e717",
   "metadata": {},
   "source": [
    "# FUNCTIONS!!!"
   ]
  },
  {
   "cell_type": "code",
   "execution_count": 1,
   "id": "13e4d60b-264c-4e45-be36-12c4e131237e",
   "metadata": {},
   "outputs": [],
   "source": [
    "def hello_world():\n",
    "    print(\"Hello world\")"
   ]
  },
  {
   "cell_type": "code",
   "execution_count": 2,
   "id": "ae8caff6-c1ce-4a42-a765-a403eae43974",
   "metadata": {},
   "outputs": [
    {
     "name": "stdout",
     "output_type": "stream",
     "text": [
      "Hello world\n"
     ]
    }
   ],
   "source": [
    "hello_world()"
   ]
  },
  {
   "cell_type": "code",
   "execution_count": 3,
   "id": "5594ebaa-e227-463c-acf0-8d17a7389446",
   "metadata": {},
   "outputs": [],
   "source": [
    "def add_function(x, y):\n",
    "    print(x+y)"
   ]
  },
  {
   "cell_type": "code",
   "execution_count": 4,
   "id": "10a7d825-04e6-4c59-b192-d497a3b57ac0",
   "metadata": {},
   "outputs": [
    {
     "name": "stdout",
     "output_type": "stream",
     "text": [
      "15\n"
     ]
    }
   ],
   "source": [
    "add_function(10,5)"
   ]
  },
  {
   "cell_type": "code",
   "execution_count": 5,
   "id": "d0289c21-906f-4bc2-b482-8ac7fb5a9a72",
   "metadata": {},
   "outputs": [],
   "source": [
    "def add_function(x, y):\n",
    "    added_numbers = x+y\n",
    "    return added_numbers"
   ]
  },
  {
   "cell_type": "code",
   "execution_count": 6,
   "id": "27c28075-c66e-4c85-b3f8-994a19bb1dee",
   "metadata": {},
   "outputs": [
    {
     "data": {
      "text/plain": [
       "15"
      ]
     },
     "execution_count": 6,
     "metadata": {},
     "output_type": "execute_result"
    }
   ],
   "source": [
    "add_function(10, 5)"
   ]
  },
  {
   "cell_type": "code",
   "execution_count": 7,
   "id": "2c7b8a38-9023-4714-9d75-78e6ed46752d",
   "metadata": {},
   "outputs": [],
   "source": [
    "result = add_function(10, 5)"
   ]
  },
  {
   "cell_type": "code",
   "execution_count": 8,
   "id": "c5a7d4a4-3bb7-49d5-8ead-95fbd0fc3a00",
   "metadata": {},
   "outputs": [
    {
     "name": "stdout",
     "output_type": "stream",
     "text": [
      "15\n"
     ]
    }
   ],
   "source": [
    "print(result)"
   ]
  },
  {
   "cell_type": "code",
   "execution_count": 9,
   "id": "74f86e69-1a10-40c6-83d4-5992e6a4e7dc",
   "metadata": {},
   "outputs": [],
   "source": [
    "def add_function_default(x=0, y=1):\n",
    "    return x+y"
   ]
  },
  {
   "cell_type": "code",
   "execution_count": 10,
   "id": "572a183f-9253-47f6-8a2e-337c7fcddc1d",
   "metadata": {},
   "outputs": [
    {
     "data": {
      "text/plain": [
       "1"
      ]
     },
     "execution_count": 10,
     "metadata": {},
     "output_type": "execute_result"
    }
   ],
   "source": [
    "add_function_default()"
   ]
  },
  {
   "cell_type": "code",
   "execution_count": 11,
   "id": "5dcb3e22-b32b-491f-8aef-f597e5507007",
   "metadata": {},
   "outputs": [
    {
     "data": {
      "text/plain": [
       "11"
      ]
     },
     "execution_count": 11,
     "metadata": {},
     "output_type": "execute_result"
    }
   ],
   "source": [
    "add_function_default(10)"
   ]
  },
  {
   "cell_type": "code",
   "execution_count": 12,
   "id": "1075445c-2b26-4250-a830-896298b39213",
   "metadata": {},
   "outputs": [
    {
     "data": {
      "text/plain": [
       "100"
      ]
     },
     "execution_count": 12,
     "metadata": {},
     "output_type": "execute_result"
    }
   ],
   "source": [
    "add_function_default(y=100)"
   ]
  },
  {
   "cell_type": "code",
   "execution_count": null,
   "id": "14008a02-c84c-426e-905a-921da4d11cc0",
   "metadata": {},
   "outputs": [],
   "source": []
  }
 ],
 "metadata": {
  "kernelspec": {
   "display_name": "Python 3 (ipykernel)",
   "language": "python",
   "name": "python3"
  },
  "language_info": {
   "codemirror_mode": {
    "name": "ipython",
    "version": 3
   },
   "file_extension": ".py",
   "mimetype": "text/x-python",
   "name": "python",
   "nbconvert_exporter": "python",
   "pygments_lexer": "ipython3",
   "version": "3.13.0"
  }
 },
 "nbformat": 4,
 "nbformat_minor": 5
}
